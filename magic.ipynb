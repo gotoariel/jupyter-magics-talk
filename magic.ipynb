{
 "cells": [
  {
   "cell_type": "markdown",
   "metadata": {},
   "source": [
    "# Magics in Jupyter\n",
    "\n",
    "## Intro & background\n",
    "\n",
    "## Context - common workflows in Jupyter\n",
    "\n",
    "### Audience participation - what are the common reasons why you leave a Jupyter notebook?\n",
    "\n",
    "* Data ingestion or filtering (sed, awk)\n",
    "* Database operations\n",
    "* Unit testing\n",
    "* Frontend development (browser dev tools)\n",
    "\n",
    "## Problem - we have users who only see the notebooks\n",
    "\n",
    "## Solution - magics\n",
    "\n",
    "### What are magics?\n",
    "\n",
    "#### Cell magics vs line magics\n",
    "\n",
    "#### Built into kernel but also can be created\n",
    "\n",
    "## %sh\n",
    "\n",
    "## %sql\n",
    "\n",
    "## ihtml\n",
    "\n",
    "Using magics to work with iFrames inside Jupyter notebooks\n",
    "\n",
    "## Making your own magics\n",
    "\n",
    "Behind the scenes on how these are created\n",
    "\n",
    "## Conclusion and next steps\n",
    "\n"
   ]
  },
  {
   "cell_type": "code",
   "execution_count": null,
   "metadata": {},
   "outputs": [],
   "source": []
  },
  {
   "cell_type": "code",
   "execution_count": null,
   "metadata": {},
   "outputs": [],
   "source": []
  },
  {
   "cell_type": "code",
   "execution_count": null,
   "metadata": {},
   "outputs": [],
   "source": []
  }
 ],
 "metadata": {
  "kernelspec": {
   "display_name": "Python 3",
   "language": "python",
   "name": "python3"
  },
  "language_info": {
   "codemirror_mode": {
    "name": "ipython",
    "version": 3
   },
   "file_extension": ".py",
   "mimetype": "text/x-python",
   "name": "python",
   "nbconvert_exporter": "python",
   "pygments_lexer": "ipython3",
   "version": "3.6.5"
  }
 },
 "nbformat": 4,
 "nbformat_minor": 2
}
