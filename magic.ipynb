{
 "cells": [
  {
   "cell_type": "markdown",
   "metadata": {},
   "source": [
    "# Jupyter Magics for More Comprehensive Workflows"
   ]
  },
  {
   "cell_type": "markdown",
   "metadata": {},
   "source": [
    "## Introduction"
   ]
  },
  {
   "cell_type": "markdown",
   "metadata": {
    "slideshow": {
     "slide_type": "-"
    }
   },
   "source": [
    "## What is magic?"
   ]
  },
  {
   "cell_type": "markdown",
   "metadata": {
    "slideshow": {
     "slide_type": "-"
    }
   },
   "source": [
    "[Magic](https://en.wikipedia.org/wiki/Magic_(programming) is ubiquitous in programming, referring broadly to commands or functionality that **abstract away complexity**, usually to improve quality of life or ease of use. Like syntactic sugar, magics aren't often strictly necessary, but they're *cool*, they *save time*, and they *make you feel powerful* as you handle relatively annoying or difficult tasks with ease.\n",
    "\n",
    "Today I want to focus on the ability of magics to bring more of your workflow into Jupyter, which not only makes things quicker but also simpler. This is a great boon, especially when putting a Jupyter workflow in front of a less experienced user who might not be as comfortable switching between several different development tools.\n",
    "\n",
    "* What are some reasons one might have to leave Jupyter to get something accomplished?\n",
    "    * Data ingestion or filtering (sed, awk)\n",
    "    * Database operations\n",
    "    * Unit testing\n",
    "    * Frontend development (browser dev tools)\n",
    "* What is the difference in the user experience?"
   ]
  },
  {
   "cell_type": "markdown",
   "metadata": {
    "slideshow": {
     "slide_type": "-"
    }
   },
   "source": [
    "## Where does Jupyter magic come from?\n",
    "\n",
    "* [Built in to the kernel](http://ipython.readthedocs.io/en/stable/interactive/magics.html#)\n",
    "* [Viewers like you](http://ipython.readthedocs.io/en/stable/config/custommagics.html)"
   ]
  },
  {
   "cell_type": "markdown",
   "metadata": {},
   "source": [
    "## Cell magics vs line magics\n",
    "\n",
    "Cell magics change the way the entire cell is executed, and therefore can't be mixed with other commands.\n",
    "* They usually start with `%%`\n",
    "* These include magics that change the REPL used to execute the cell such as `%%sh` or `%%html`.\n",
    "\n",
    "Line commands affect a single line of code and can be run inline.\n",
    "* They usually start with `%`\n",
    "\n",
    "Why `%`?"
   ]
  },
  {
   "cell_type": "code",
   "execution_count": null,
   "metadata": {},
   "outputs": [],
   "source": [
    "# Line magics can be inserted anywhere\n",
    "%lsmagic"
   ]
  },
  {
   "cell_type": "code",
   "execution_count": null,
   "metadata": {},
   "outputs": [],
   "source": [
    "# Cell magics must be declared at the beginning of the cell\n",
    "%%html\n",
    "<hr />\n",
    "# Comments often won't work like you expect"
   ]
  },
  {
   "cell_type": "markdown",
   "metadata": {},
   "source": [
    "## Code execution and debugging"
   ]
  },
  {
   "cell_type": "code",
   "execution_count": null,
   "metadata": {},
   "outputs": [],
   "source": [
    "%%time\n",
    "import time\n",
    "time.sleep(2)"
   ]
  },
  {
   "cell_type": "code",
   "execution_count": null,
   "metadata": {},
   "outputs": [],
   "source": [
    "%timeit time.sleep(0.25)\n",
    "%timeit time.sleep(0.5)"
   ]
  },
  {
   "cell_type": "code",
   "execution_count": null,
   "metadata": {},
   "outputs": [],
   "source": [
    "def raiser():\n",
    "    x = 10\n",
    "    raise NotImplementedError()"
   ]
  },
  {
   "cell_type": "code",
   "execution_count": null,
   "metadata": {},
   "outputs": [],
   "source": [
    "# %debug also exists\n",
    "%pdb"
   ]
  },
  {
   "cell_type": "code",
   "execution_count": null,
   "metadata": {},
   "outputs": [],
   "source": [
    "raiser()"
   ]
  },
  {
   "cell_type": "code",
   "execution_count": null,
   "metadata": {},
   "outputs": [],
   "source": [
    "%%prun\n",
    "squares = [x ** 2 for x in range(10000)]\n",
    "d = dict.fromkeys(squares)\n",
    "list(d.keys()).pop()"
   ]
  },
  {
   "cell_type": "markdown",
   "metadata": {},
   "source": [
    "## Meta-level commands and external interactions"
   ]
  },
  {
   "cell_type": "code",
   "execution_count": null,
   "metadata": {},
   "outputs": [],
   "source": [
    "%who int"
   ]
  },
  {
   "cell_type": "code",
   "execution_count": null,
   "metadata": {},
   "outputs": [],
   "source": [
    "%env CONDA_PREFIX"
   ]
  },
  {
   "cell_type": "code",
   "execution_count": null,
   "metadata": {},
   "outputs": [],
   "source": [
    "%%writefile time.py\n",
    "import time\n",
    "\n",
    "if __name__ == \"__main__\":\n",
    "    now = time.localtime()\n",
    "    print(\"It's Daylight Saving Time!\") if now.tm_isdst else print(\"All out of daylight...\")"
   ]
  },
  {
   "cell_type": "code",
   "execution_count": null,
   "metadata": {},
   "outputs": [],
   "source": [
    "%pycat time.py"
   ]
  },
  {
   "cell_type": "code",
   "execution_count": null,
   "metadata": {},
   "outputs": [],
   "source": [
    "%run time.py"
   ]
  },
  {
   "cell_type": "code",
   "execution_count": null,
   "metadata": {},
   "outputs": [],
   "source": [
    "#%run -p time.py"
   ]
  },
  {
   "cell_type": "code",
   "execution_count": null,
   "metadata": {},
   "outputs": [],
   "source": [
    "# Persist variables across sessions with pickle\n",
    "%store now"
   ]
  },
  {
   "cell_type": "code",
   "execution_count": null,
   "metadata": {},
   "outputs": [],
   "source": [
    "# %load time.py\n",
    "import time\n",
    "\n",
    "if __name__ == \"__main__\":\n",
    "    now = time.localtime()\n",
    "    print(\"It's Daylight Saving Time!\") if now.tm_isdst else print(\"All out of daylight...\")"
   ]
  },
  {
   "cell_type": "code",
   "execution_count": null,
   "metadata": {},
   "outputs": [],
   "source": [
    "print(now)  # from previous cell\n",
    "%store -r now\n",
    "print(now)  # from cache"
   ]
  },
  {
   "cell_type": "markdown",
   "metadata": {},
   "source": [
    "## Interacting with the underlying shell"
   ]
  },
  {
   "cell_type": "code",
   "execution_count": null,
   "metadata": {
    "slideshow": {
     "slide_type": "-"
    }
   },
   "outputs": [],
   "source": [
    "%env SHELL"
   ]
  },
  {
   "cell_type": "code",
   "execution_count": null,
   "metadata": {},
   "outputs": [],
   "source": [
    "%%sh\n",
    "pwd"
   ]
  },
  {
   "cell_type": "code",
   "execution_count": null,
   "metadata": {},
   "outputs": [],
   "source": [
    "# A line magic option\n",
    "!ls -lhr\n",
    "print(\"---\")\n",
    "!wc time.py"
   ]
  },
  {
   "cell_type": "code",
   "execution_count": null,
   "metadata": {},
   "outputs": [],
   "source": [
    "# Seamless interaction with Python variables\n",
    "%timeit -n1 -r3 gitbranch = !git branch 2> /dev/null | sed -e '/^[^*]/d' -e 's/* \\(.*\\)/ (\\1)/'\n",
    "print(f\"The git repo is currently on the {gitbranch[0].strip(' ()')} branch.\")"
   ]
  },
  {
   "cell_type": "code",
   "execution_count": null,
   "metadata": {},
   "outputs": [],
   "source": [
    "!git diff magic.ipynb"
   ]
  },
  {
   "cell_type": "code",
   "execution_count": null,
   "metadata": {},
   "outputs": [],
   "source": [
    "#!rm time.py"
   ]
  },
  {
   "cell_type": "markdown",
   "metadata": {},
   "source": [
    "## Interacting with other kernels"
   ]
  },
  {
   "cell_type": "markdown",
   "metadata": {},
   "source": [
    "## Creating your own magics\n",
    "\n",
    "* [Full documentation](http://ipython.readthedocs.io/en/stable/config/custommagics.html)\n",
    "* [Blog post example](http://mlexplained.com/2017/12/28/creating-custom-magic-commands-in-jupyter/)"
   ]
  },
  {
   "cell_type": "code",
   "execution_count": null,
   "metadata": {},
   "outputs": [],
   "source": [
    "from IPython.core.magic import (register_line_magic, register_cell_magic,\n",
    "                                register_line_cell_magic)\n",
    "\n",
    "@register_line_magic\n",
    "def lmagic(line):\n",
    "    \"my line magic\"\n",
    "    return line\n",
    "\n",
    "@register_cell_magic\n",
    "def cmagic(line, cell):\n",
    "    \"my cell magic\"\n",
    "    return line, cell\n",
    "\n",
    "@register_line_cell_magic\n",
    "def lcmagic(line, cell=None):\n",
    "    \"Magic that works both as %lcmagic and as %%lcmagic\"\n",
    "    if cell is None:\n",
    "        print(\"Called as line magic\")\n",
    "        return line\n",
    "    else:\n",
    "        print(\"Called as cell magic\")\n",
    "        return line, cell"
   ]
  },
  {
   "cell_type": "code",
   "execution_count": null,
   "metadata": {},
   "outputs": [],
   "source": [
    "%lcmagic here\n",
    "x = 10\n",
    "print(x**2)"
   ]
  },
  {
   "cell_type": "markdown",
   "metadata": {},
   "source": [
    "### Why use the magics class?"
   ]
  },
  {
   "cell_type": "code",
   "execution_count": null,
   "metadata": {},
   "outputs": [],
   "source": [
    "from IPython.core.magic import (Magics, magics_class, line_cell_magic, cell_magic, line_magic)\n",
    "from IPython.core import magic_arguments\n",
    "\n",
    "@magics_class\n",
    "class Abracadabra(Magics):\n",
    "    @line_cell_magic\n",
    "    def getvars(self, line, cell=None):\n",
    "        print(\"Full access to the main IPython object:\", self.shell)\n",
    "        print(\"Variables in the user namespace:\", list(self.shell.user_ns.keys()))\n",
    "        return line, cell\n",
    "        \n",
    "    @cell_magic\n",
    "    @magic_arguments.magic_arguments()\n",
    "    @magic_arguments.argument('--out', '-o', help='The variable to return the results in')\n",
    "    def message(self, line='', cell=None):\n",
    "        args = magic_arguments.parse_argstring(self.message, line)\n",
    "        if args.out is None:\n",
    "            print('hello ' + cell)\n",
    "        else:\n",
    "            self.shell.user_ns[args.out] = 'hello ' + cell\n",
    "            self.shell.user_ns[\"varlist\"] = list(self.shell.user_ns.keys())"
   ]
  },
  {
   "cell_type": "code",
   "execution_count": null,
   "metadata": {},
   "outputs": [],
   "source": [
    "%getvars"
   ]
  },
  {
   "cell_type": "code",
   "execution_count": null,
   "metadata": {},
   "outputs": [],
   "source": [
    "ip = get_ipython()\n",
    "ip.register_magics(Abracadabra)"
   ]
  },
  {
   "cell_type": "code",
   "execution_count": null,
   "metadata": {},
   "outputs": [],
   "source": [
    "%%message\n",
    "world"
   ]
  },
  {
   "cell_type": "code",
   "execution_count": null,
   "metadata": {},
   "outputs": [],
   "source": [
    "%%message -o target\n",
    "world"
   ]
  },
  {
   "cell_type": "code",
   "execution_count": null,
   "metadata": {},
   "outputs": [],
   "source": [
    "print(target)"
   ]
  },
  {
   "cell_type": "code",
   "execution_count": null,
   "metadata": {},
   "outputs": [],
   "source": [
    "%page varlist"
   ]
  },
  {
   "cell_type": "markdown",
   "metadata": {},
   "source": [
    "## Example 1: ihtml\n",
    "\n",
    "[Source code](https://github.com/thedataincubator/ihtml/blob/master/README.ipynb)\n",
    "\n",
    "* Note that there is built in iframe support"
   ]
  },
  {
   "cell_type": "markdown",
   "metadata": {},
   "source": [
    "## Example 2: jupyter-slack-notify\n",
    "\n",
    "[Source code](https://github.com/keitakurita/jupyter-slack-notify)\n",
    "\n",
    "* Notice the cell execution and timing"
   ]
  },
  {
   "cell_type": "markdown",
   "metadata": {},
   "source": []
  },
  {
   "cell_type": "code",
   "execution_count": null,
   "metadata": {},
   "outputs": [],
   "source": []
  }
 ],
 "metadata": {
  "kernelspec": {
   "display_name": "Python 3",
   "language": "python",
   "name": "python3"
  },
  "language_info": {
   "codemirror_mode": {
    "name": "ipython",
    "version": 3
   },
   "file_extension": ".py",
   "mimetype": "text/x-python",
   "name": "python",
   "nbconvert_exporter": "python",
   "pygments_lexer": "ipython3",
   "version": "3.6.5"
  }
 },
 "nbformat": 4,
 "nbformat_minor": 2
}
